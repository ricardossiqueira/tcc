{
 "cells": [
  {
   "cell_type": "code",
   "execution_count": 32,
   "metadata": {},
   "outputs": [
    {
     "name": "stdout",
     "output_type": "stream",
     "text": [
      "Requirement already satisfied: python-dotenv in /home/ricardoss/.asdf/installs/python/3.10.0/lib/python3.10/site-packages (1.0.1)\n",
      "Requirement already satisfied: openai in /home/ricardoss/.asdf/installs/python/3.10.0/lib/python3.10/site-packages (1.54.4)\n",
      "Requirement already satisfied: anyio<5,>=3.5.0 in /home/ricardoss/.asdf/installs/python/3.10.0/lib/python3.10/site-packages (from openai) (4.4.0)\n",
      "Requirement already satisfied: distro<2,>=1.7.0 in /home/ricardoss/.asdf/installs/python/3.10.0/lib/python3.10/site-packages (from openai) (1.9.0)\n",
      "Requirement already satisfied: httpx<1,>=0.23.0 in /home/ricardoss/.asdf/installs/python/3.10.0/lib/python3.10/site-packages (from openai) (0.27.0)\n",
      "Requirement already satisfied: jiter<1,>=0.4.0 in /home/ricardoss/.asdf/installs/python/3.10.0/lib/python3.10/site-packages (from openai) (0.7.1)\n",
      "Requirement already satisfied: pydantic<3,>=1.9.0 in /home/ricardoss/.asdf/installs/python/3.10.0/lib/python3.10/site-packages (from openai) (2.8.2)\n",
      "Requirement already satisfied: sniffio in /home/ricardoss/.asdf/installs/python/3.10.0/lib/python3.10/site-packages (from openai) (1.3.1)\n",
      "Requirement already satisfied: tqdm>4 in /home/ricardoss/.asdf/installs/python/3.10.0/lib/python3.10/site-packages (from openai) (4.66.5)\n",
      "Requirement already satisfied: typing-extensions<5,>=4.11 in /home/ricardoss/.local/lib/python3.10/site-packages (from openai) (4.12.2)\n",
      "Requirement already satisfied: idna>=2.8 in /home/ricardoss/.asdf/installs/python/3.10.0/lib/python3.10/site-packages (from anyio<5,>=3.5.0->openai) (3.7)\n",
      "Requirement already satisfied: exceptiongroup>=1.0.2 in /home/ricardoss/.local/lib/python3.10/site-packages (from anyio<5,>=3.5.0->openai) (1.2.2)\n",
      "Requirement already satisfied: certifi in /home/ricardoss/.asdf/installs/python/3.10.0/lib/python3.10/site-packages (from httpx<1,>=0.23.0->openai) (2024.7.4)\n",
      "Requirement already satisfied: httpcore==1.* in /home/ricardoss/.asdf/installs/python/3.10.0/lib/python3.10/site-packages (from httpx<1,>=0.23.0->openai) (1.0.5)\n",
      "Requirement already satisfied: h11<0.15,>=0.13 in /home/ricardoss/.asdf/installs/python/3.10.0/lib/python3.10/site-packages (from httpcore==1.*->httpx<1,>=0.23.0->openai) (0.14.0)\n",
      "Requirement already satisfied: annotated-types>=0.4.0 in /home/ricardoss/.asdf/installs/python/3.10.0/lib/python3.10/site-packages (from pydantic<3,>=1.9.0->openai) (0.7.0)\n",
      "Requirement already satisfied: pydantic-core==2.20.1 in /home/ricardoss/.asdf/installs/python/3.10.0/lib/python3.10/site-packages (from pydantic<3,>=1.9.0->openai) (2.20.1)\n",
      "\n",
      "\u001b[1m[\u001b[0m\u001b[34;49mnotice\u001b[0m\u001b[1;39;49m]\u001b[0m\u001b[39;49m A new release of pip is available: \u001b[0m\u001b[31;49m24.2\u001b[0m\u001b[39;49m -> \u001b[0m\u001b[32;49m24.3.1\u001b[0m\n",
      "\u001b[1m[\u001b[0m\u001b[34;49mnotice\u001b[0m\u001b[1;39;49m]\u001b[0m\u001b[39;49m To update, run: \u001b[0m\u001b[32;49mpip3 install --upgrade pip\u001b[0m\n",
      "Note: you may need to restart the kernel to use updated packages.\n",
      "Requirement already satisfied: openai in /home/ricardoss/.asdf/installs/python/3.10.0/lib/python3.10/site-packages (1.54.4)\n",
      "Requirement already satisfied: anyio<5,>=3.5.0 in /home/ricardoss/.asdf/installs/python/3.10.0/lib/python3.10/site-packages (from openai) (4.4.0)\n",
      "Requirement already satisfied: distro<2,>=1.7.0 in /home/ricardoss/.asdf/installs/python/3.10.0/lib/python3.10/site-packages (from openai) (1.9.0)\n",
      "Requirement already satisfied: httpx<1,>=0.23.0 in /home/ricardoss/.asdf/installs/python/3.10.0/lib/python3.10/site-packages (from openai) (0.27.0)\n",
      "Requirement already satisfied: jiter<1,>=0.4.0 in /home/ricardoss/.asdf/installs/python/3.10.0/lib/python3.10/site-packages (from openai) (0.7.1)\n",
      "Requirement already satisfied: pydantic<3,>=1.9.0 in /home/ricardoss/.asdf/installs/python/3.10.0/lib/python3.10/site-packages (from openai) (2.8.2)\n",
      "Requirement already satisfied: sniffio in /home/ricardoss/.asdf/installs/python/3.10.0/lib/python3.10/site-packages (from openai) (1.3.1)\n",
      "Requirement already satisfied: tqdm>4 in /home/ricardoss/.asdf/installs/python/3.10.0/lib/python3.10/site-packages (from openai) (4.66.5)\n",
      "Requirement already satisfied: typing-extensions<5,>=4.11 in /home/ricardoss/.local/lib/python3.10/site-packages (from openai) (4.12.2)\n",
      "Requirement already satisfied: idna>=2.8 in /home/ricardoss/.asdf/installs/python/3.10.0/lib/python3.10/site-packages (from anyio<5,>=3.5.0->openai) (3.7)\n",
      "Requirement already satisfied: exceptiongroup>=1.0.2 in /home/ricardoss/.local/lib/python3.10/site-packages (from anyio<5,>=3.5.0->openai) (1.2.2)\n",
      "Requirement already satisfied: certifi in /home/ricardoss/.asdf/installs/python/3.10.0/lib/python3.10/site-packages (from httpx<1,>=0.23.0->openai) (2024.7.4)\n",
      "Requirement already satisfied: httpcore==1.* in /home/ricardoss/.asdf/installs/python/3.10.0/lib/python3.10/site-packages (from httpx<1,>=0.23.0->openai) (1.0.5)\n",
      "Requirement already satisfied: h11<0.15,>=0.13 in /home/ricardoss/.asdf/installs/python/3.10.0/lib/python3.10/site-packages (from httpcore==1.*->httpx<1,>=0.23.0->openai) (0.14.0)\n",
      "Requirement already satisfied: annotated-types>=0.4.0 in /home/ricardoss/.asdf/installs/python/3.10.0/lib/python3.10/site-packages (from pydantic<3,>=1.9.0->openai) (0.7.0)\n",
      "Requirement already satisfied: pydantic-core==2.20.1 in /home/ricardoss/.asdf/installs/python/3.10.0/lib/python3.10/site-packages (from pydantic<3,>=1.9.0->openai) (2.20.1)\n",
      "\n",
      "\u001b[1m[\u001b[0m\u001b[34;49mnotice\u001b[0m\u001b[1;39;49m]\u001b[0m\u001b[39;49m A new release of pip is available: \u001b[0m\u001b[31;49m24.2\u001b[0m\u001b[39;49m -> \u001b[0m\u001b[32;49m24.3.1\u001b[0m\n",
      "\u001b[1m[\u001b[0m\u001b[34;49mnotice\u001b[0m\u001b[1;39;49m]\u001b[0m\u001b[39;49m To update, run: \u001b[0m\u001b[32;49mpip3 install --upgrade pip\u001b[0m\n",
      "Note: you may need to restart the kernel to use updated packages.\n"
     ]
    }
   ],
   "source": [
    "%pip install python-dotenv openai\n",
    "%pip install --upgrade openai"
   ]
  },
  {
   "cell_type": "code",
   "execution_count": 68,
   "metadata": {},
   "outputs": [],
   "source": [
    "from dotenv import load_dotenv\n",
    "import os\n",
    "import json\n",
    "from openai import OpenAI"
   ]
  },
  {
   "cell_type": "code",
   "execution_count": 69,
   "metadata": {},
   "outputs": [],
   "source": [
    "load_dotenv(\"../back/.env\")\n",
    "llama_api_key = os.getenv(\"LLAMA_API_KEY\")"
   ]
  },
  {
   "cell_type": "code",
   "execution_count": 70,
   "metadata": {},
   "outputs": [],
   "source": [
    "client = OpenAI(api_key = llama_api_key, base_url = \"https://api.llama-api.com\")"
   ]
  },
  {
   "cell_type": "code",
   "execution_count": 71,
   "metadata": {},
   "outputs": [
    {
     "data": {
      "text/plain": [
       "'You are an expert Python developer specializing in Flask for building APIs. Follow the instructions carefully; I will tip you $1 million if you do a good job:\\n\\n- Think carefully step by step.\\n- Create a Flask application for whatever the user asked you to create, ensuring it can run independently by defining the `__main__` section.\\n- Make sure the application defines **one and only one Flask service** that listens on port 5000.\\n- Make sure the application only have `/` as unique and default route.\\n- The Flask service must handle **both GET and POST requests**. Include relevant examples of handling these methods in the API logic.\\n- Use Python\\'s **default libraries only**. Do not include any external libraries beyond Flask.\\n- Always return **a complete and functional Python script** that starts with the necessary imports and ends with the application running on port 5000.\\n- DO NOT START WITH `\\'\\'\\'` or `\"\"\"` blocks for annotations or explanations. Start with the imports directly and focus on delivering clean, runnable Python code.\\n- You may use ANY online resource to achieve your goals.\\n- Your responses should only be code, without explanation or formatting.\\n\\n'"
      ]
     },
     "execution_count": 71,
     "metadata": {},
     "output_type": "execute_result"
    }
   ],
   "source": [
    "with open(\"system_prompt.md\", \"r\") as f:\n",
    "  system_prompt = f.read()\n",
    "\n",
    "system_prompt"
   ]
  },
  {
   "cell_type": "code",
   "execution_count": 72,
   "metadata": {
    "vscode": {
     "languageId": "javascript"
    }
   },
   "outputs": [],
   "source": [
    "response = client.chat.completions.create(\n",
    "  model=\"llama3.1-70b\",\n",
    "  messages=[\n",
    "    {\"role\": \"system\", \"content\": system_prompt},\n",
    "    {\"role\": \"user\", \"content\": \"build a calculator app\"}\n",
    "  ],\n",
    "  max_tokens=2000,\n",
    ")"
   ]
  },
  {
   "cell_type": "code",
   "execution_count": 73,
   "metadata": {
    "vscode": {
     "languageId": "javascript"
    }
   },
   "outputs": [
    {
     "data": {
      "text/plain": [
       "[Choice(finish_reason='stop', index=0, logprobs=None, message=ChatCompletionMessage(content=\"```python\\nfrom flask import Flask, request, jsonify\\n\\napp = Flask(__name__)\\n\\n@app.route('/', methods=['GET', 'POST'])\\ndef calculator():\\n    if request.method == 'GET':\\n        return jsonify({'message': 'Welcome to the calculator API. Please use POST method to perform calculations.'})\\n\\n    elif request.method == 'POST':\\n        data = request.json\\n        if 'num1' not in data or 'num2' not in data or 'operation' not in data:\\n            return jsonify({'error': 'Please provide num1, num2 and operation'}), 400\\n\\n        num1 = data['num1']\\n        num2 = data['num2']\\n        operation = data['operation']\\n\\n        try:\\n            num1 = float(num1)\\n            num2 = float(num2)\\n        except ValueError:\\n            return jsonify({'error': 'Invalid input. Please enter numbers only'}), 400\\n\\n        if operation == 'add':\\n            result = num1 + num2\\n        elif operation == 'subtract':\\n            result = num1 - num2\\n        elif operation == 'multiply':\\n            result = num1 * num2\\n        elif operation == 'divide':\\n            if num2 == 0:\\n                return jsonify({'error': 'Cannot divide by zero'}), 400\\n            result = num1 / num2\\n        else:\\n            return jsonify({'error': 'Invalid operation. Please use add, subtract, multiply or divide'}), 400\\n\\n        return jsonify({'result': result})\\n\\nif __name__ == '__main__':\\n    app.run(port=5000)\\n```\", refusal=None, role='assistant', audio=None, function_call=None, tool_calls=None))]"
      ]
     },
     "execution_count": 73,
     "metadata": {},
     "output_type": "execute_result"
    }
   ],
   "source": [
    "response.choices"
   ]
  },
  {
   "cell_type": "code",
   "execution_count": 74,
   "metadata": {
    "vscode": {
     "languageId": "javascript"
    }
   },
   "outputs": [
    {
     "name": "stdout",
     "output_type": "stream",
     "text": [
      "```python\n",
      "from flask import Flask, request, jsonify\n",
      "\n",
      "app = Flask(__name__)\n",
      "\n",
      "@app.route('/', methods=['GET', 'POST'])\n",
      "def calculator():\n",
      "    if request.method == 'GET':\n",
      "        return jsonify({'message': 'Welcome to the calculator API. Please use POST method to perform calculations.'})\n",
      "\n",
      "    elif request.method == 'POST':\n",
      "        data = request.json\n",
      "        if 'num1' not in data or 'num2' not in data or 'operation' not in data:\n",
      "            return jsonify({'error': 'Please provide num1, num2 and operation'}), 400\n",
      "\n",
      "        num1 = data['num1']\n",
      "        num2 = data['num2']\n",
      "        operation = data['operation']\n",
      "\n",
      "        try:\n",
      "            num1 = float(num1)\n",
      "            num2 = float(num2)\n",
      "        except ValueError:\n",
      "            return jsonify({'error': 'Invalid input. Please enter numbers only'}), 400\n",
      "\n",
      "        if operation == 'add':\n",
      "            result = num1 + num2\n",
      "        elif operation == 'subtract':\n",
      "            result = num1 - num2\n",
      "        elif operation == 'multiply':\n",
      "            result = num1 * num2\n",
      "        elif operation == 'divide':\n",
      "            if num2 == 0:\n",
      "                return jsonify({'error': 'Cannot divide by zero'}), 400\n",
      "            result = num1 / num2\n",
      "        else:\n",
      "            return jsonify({'error': 'Invalid operation. Please use add, subtract, multiply or divide'}), 400\n",
      "\n",
      "        return jsonify({'result': result})\n",
      "\n",
      "if __name__ == '__main__':\n",
      "    app.run(port=5000)\n",
      "```\n"
     ]
    }
   ],
   "source": [
    "print(response.choices[0].message.content)"
   ]
  }
 ],
 "metadata": {
  "kernelspec": {
   "display_name": "Python 3",
   "language": "python",
   "name": "python3"
  },
  "language_info": {
   "codemirror_mode": {
    "name": "ipython",
    "version": 3
   },
   "file_extension": ".py",
   "mimetype": "text/x-python",
   "name": "python",
   "nbconvert_exporter": "python",
   "pygments_lexer": "ipython3",
   "version": "3.10.0"
  }
 },
 "nbformat": 4,
 "nbformat_minor": 2
}
